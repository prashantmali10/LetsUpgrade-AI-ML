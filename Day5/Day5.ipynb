{
 "cells": [
  {
   "cell_type": "code",
   "execution_count": 24,
   "metadata": {},
   "outputs": [
    {
     "name": "stdout",
     "output_type": "stream",
     "text": [
      "The first 20 non-even prime natural numbers are:\n",
      "Number 1 = 3\n",
      "Number 2 = 5\n",
      "Number 3 = 7\n",
      "Number 4 = 11\n",
      "Number 5 = 13\n",
      "Number 6 = 17\n",
      "Number 7 = 19\n",
      "Number 8 = 23\n",
      "Number 9 = 29\n",
      "Number 10 = 31\n",
      "Number 11 = 37\n",
      "Number 12 = 41\n",
      "Number 13 = 43\n",
      "Number 14 = 47\n",
      "Number 15 = 53\n",
      "Number 16 = 59\n",
      "Number 17 = 61\n",
      "Number 18 = 67\n",
      "Number 19 = 71\n",
      "Number 20 = 73\n"
     ]
    }
   ],
   "source": [
    "j=0\n",
    "print(\"The first 20 non-even prime natural numbers are:\")\n",
    "for num in range(3, 100):\n",
    "         if num > 1:\n",
    "            for i in range(2, num):\n",
    "                if (num % i) == 0:\n",
    "                    break;\n",
    "            else:\n",
    "                j+=1\n",
    "                \n",
    "                print('Number',j,\"=\",num)\n",
    "            if j==20:\n",
    "                break"
   ]
  },
  {
   "cell_type": "code",
   "execution_count": 10,
   "metadata": {},
   "outputs": [
    {
     "name": "stdout",
     "output_type": "stream",
     "text": [
      "True\n",
      "Prashant\n",
      "-1\n",
      "prashant\n",
      "prashant\n",
      "00PRASHANT\n"
     ]
    }
   ],
   "source": [
    "str = 'PRASHANT'\n",
    "print(str.isupper())\n",
    "print(str.title())\n",
    "print(str.find('ni'))\n",
    "print(str.swapcase())\n",
    "print(str.casefold())\n",
    "print(str.zfill(10))"
   ]
  },
  {
   "cell_type": "code",
   "execution_count": 13,
   "metadata": {},
   "outputs": [
    {
     "name": "stdout",
     "output_type": "stream",
     "text": [
      "['prashant', 'vasant', 'mali']\n",
      "5\n",
      "PRASHANT VASANT MALI\n",
      "('prashant ', 'vasant', ' mali')\n"
     ]
    }
   ],
   "source": [
    "str = 'prashant vasant mali'\n",
    "str_list = str.split(sep=' ')\n",
    "print(str_list)\n",
    "print(str.count('a'))\n",
    "print(str.upper())\n",
    "print(str.partition('vasant'))"
   ]
  },
  {
   "cell_type": "code",
   "execution_count": 14,
   "metadata": {},
   "outputs": [
    {
     "name": "stdout",
     "output_type": "stream",
     "text": [
      "mali\n"
     ]
    }
   ],
   "source": [
    "s = 'Prashant'\n",
    "s=s.replace('Prashant', 'mali')\n",
    "print(s)"
   ]
  },
  {
   "cell_type": "code",
   "execution_count": 27,
   "metadata": {},
   "outputs": [
    {
     "name": "stdout",
     "output_type": "stream",
     "text": [
      "The given string is neither Palindrome or Anagram\n"
     ]
    }
   ],
   "source": [
    "str1 = 'photo'\n",
    "\n",
    "str2 = 'ton'\n",
    "\n",
    "str = reversed (str1)\n",
    "\n",
    "\n",
    "if list(str1) == list(str):\n",
    "    print(\"The given string is Palindrome.\")\n",
    "elif list(sorted(str1)) == list(sorted(str2)):\n",
    "    print(\"The given string is Anagram\")\n",
    "else:\n",
    "    print(\"The given string is neither Palindrome or Anagram\")"
   ]
  },
  {
   "cell_type": "code",
   "execution_count": 20,
   "metadata": {},
   "outputs": [
    {
     "name": "stdout",
     "output_type": "stream",
     "text": [
      "enggprashantmaligmailcom\n"
     ]
    }
   ],
   "source": [
    "a = 'Engg. prashantmali@gmail.com'\n",
    "for i in a:\n",
    "    if not(i.isalpha()):\n",
    "        a = a.replace(i,'')\n",
    "print(a.lower())"
   ]
  },
  {
   "cell_type": "code",
   "execution_count": null,
   "metadata": {},
   "outputs": [],
   "source": []
  }
 ],
 "metadata": {
  "kernelspec": {
   "display_name": "Python 3",
   "language": "python",
   "name": "python3"
  },
  "language_info": {
   "codemirror_mode": {
    "name": "ipython",
    "version": 3
   },
   "file_extension": ".py",
   "mimetype": "text/x-python",
   "name": "python",
   "nbconvert_exporter": "python",
   "pygments_lexer": "ipython3",
   "version": "3.7.4"
  }
 },
 "nbformat": 4,
 "nbformat_minor": 2
}
